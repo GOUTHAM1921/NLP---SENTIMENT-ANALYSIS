{
 "cells": [
  {
   "cell_type": "code",
   "execution_count": 3,
   "id": "1014a5fb",
   "metadata": {},
   "outputs": [],
   "source": [
    "import re\n",
    "import pandas as pd\n",
    "from sklearn.linear_model import LogisticRegression\n",
    "\n",
    "import pickle\n",
    "from pickle import dump\n",
    "from pickle import load\n",
    "\n",
    "import streamlit as st\n",
    "\n",
    "import joblib"
   ]
  },
  {
   "cell_type": "code",
   "execution_count": 4,
   "id": "3c4029ab",
   "metadata": {},
   "outputs": [
    {
     "name": "stderr",
     "output_type": "stream",
     "text": [
      "[nltk_data] Downloading package stopwords to\n",
      "[nltk_data]     C:\\Users\\Goutham\\AppData\\Roaming\\nltk_data...\n",
      "[nltk_data]   Package stopwords is already up-to-date!\n"
     ]
    }
   ],
   "source": [
    "import nltk\n",
    "nltk.download('stopwords')\n",
    "from nltk.corpus import stopwords\n",
    "from nltk.stem.porter import PorterStemmer"
   ]
  },
  {
   "cell_type": "code",
   "execution_count": 5,
   "id": "141832b8",
   "metadata": {},
   "outputs": [],
   "source": [
    "loaded_model=load(open('Logistic_regression.pkl','rb'))"
   ]
  },
  {
   "cell_type": "code",
   "execution_count": 6,
   "id": "97777040",
   "metadata": {},
   "outputs": [],
   "source": [
    "ps=PorterStemmer()\n",
    "def preprocess(X):\n",
    "    X=re.sub('[^a-zA-Z ]','',X)\n",
    "    X=X.lower()\n",
    "    X=X.split()\n",
    "    X=[word for word in X if word not in set(stopwords.words('english'))]\n",
    "    X=[ps.stem(word) for word in X]\n",
    "    X=\" \".join(X)\n",
    "    return X"
   ]
  },
  {
   "cell_type": "code",
   "execution_count": 7,
   "id": "a720b2d7",
   "metadata": {},
   "outputs": [],
   "source": [
    "\n",
    "def SENTIMENT_PREDICTION(input):\n",
    "    df=pd.DataFrame({\"Review\":input},index=[0])\n",
    "    df[\"Review\"]=df[\"Review\"].apply(preprocess)\n",
    "    X=df[\"Review\"]\n",
    "    \n",
    "    \n",
    "    prediction=loaded_model.predict(X)\n",
    "    if(prediction[0]==0):\n",
    "        return \"NEGATIVE REVIEW\"\n",
    "    elif(prediction[0]==1):\n",
    "        return \"POSITIVE REVIEW\"\n",
    "    else:\n",
    "        return \"NEUTRAL REVIEW\""
   ]
  },
  {
   "cell_type": "code",
   "execution_count": 8,
   "id": "14aae0ab",
   "metadata": {},
   "outputs": [
    {
     "name": "stderr",
     "output_type": "stream",
     "text": [
      "2022-07-09 21:26:44.189 \n",
      "  \u001b[33m\u001b[1mWarning:\u001b[0m to view this Streamlit app on a browser, run it with the following\n",
      "  command:\n",
      "\n",
      "    streamlit run C:\\Users\\Goutham\\anaconda3\\lib\\site-packages\\ipykernel_launcher.py [ARGUMENTS]\n"
     ]
    }
   ],
   "source": [
    "def main():\n",
    "    st.title(\"Model Deployment:Logistic Regression\")\n",
    "    \n",
    "    t1=st.text_input(\"Enter the Review\")\n",
    "    \n",
    "    diagnosis=''\n",
    "    if st.button(\"Emotion in the Review\"):\n",
    "        diagnosis=SENTIMENT_PREDICTION(t1)\n",
    "    st.success(diagnosis)\n",
    "\n",
    "if __name__ == '__main__':\n",
    "    main()"
   ]
  },
  {
   "cell_type": "code",
   "execution_count": 17,
   "id": "9dd63874",
   "metadata": {},
   "outputs": [],
   "source": [
    "#t1=\"This is the worst Mobile\"\n",
    "#SENTIMENT_PREDICTION(t1)\n",
    "    "
   ]
  },
  {
   "cell_type": "code",
   "execution_count": null,
   "id": "3543b6a5",
   "metadata": {},
   "outputs": [],
   "source": [
    "#pip install streamlit\n",
    "#!streamlit run projectapp.py"
   ]
  }
 ],
 "metadata": {
  "kernelspec": {
   "display_name": "Python 3 (ipykernel)",
   "language": "python",
   "name": "python3"
  },
  "language_info": {
   "codemirror_mode": {
    "name": "ipython",
    "version": 3
   },
   "file_extension": ".py",
   "mimetype": "text/x-python",
   "name": "python",
   "nbconvert_exporter": "python",
   "pygments_lexer": "ipython3",
   "version": "3.9.7"
  }
 },
 "nbformat": 4,
 "nbformat_minor": 5
}
